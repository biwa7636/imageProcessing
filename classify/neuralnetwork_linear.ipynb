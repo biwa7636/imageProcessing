{
 "cells": [
  {
   "cell_type": "code",
   "execution_count": 35,
   "metadata": {
    "collapsed": false
   },
   "outputs": [
    {
     "name": "stdout",
     "output_type": "stream",
     "text": [
      "3\n"
     ]
    }
   ],
   "source": [
    "def myfunc(x1, x2, x3):\n",
    "    res = 2 * x1 + (-1) * x2 + x3\n",
    "    return res\n",
    "print myfunc(1,2,3)"
   ]
  },
  {
   "cell_type": "markdown",
   "metadata": {},
   "source": [
    "# 1. generate data"
   ]
  },
  {
   "cell_type": "code",
   "execution_count": 36,
   "metadata": {
    "collapsed": false
   },
   "outputs": [
    {
     "name": "stdout",
     "output_type": "stream",
     "text": [
      "          0         1         2       res\n",
      "0  0.227842  0.613958  0.384604  0.226329\n",
      "1  0.257884  0.803579  0.521871  0.234059\n",
      "2  0.158967  0.702435  0.913416  0.528916\n",
      "3  0.784480  0.773204  0.524497  1.320252\n",
      "4  0.713300  0.141611  0.253255  1.538244\n",
      "5  0.146725  0.394415  0.028785 -0.072179\n",
      "6  0.851436  0.524461  0.599019  1.777430\n",
      "7  0.905427  0.345956  0.027553  1.492450\n",
      "8  0.855438  0.923650  0.741363  1.528590\n",
      "9  0.884187  0.856803  0.566009  1.477579\n"
     ]
    }
   ],
   "source": [
    "import numpy as np\n",
    "import pandas as pd\n",
    "number_of_records = 10\n",
    "data =  np.random.rand(number_of_records, 3)\n",
    "df = pd.DataFrame(data)\n",
    "df['res'] = df.apply(lambda x: myfunc(x[0], x[1], x[2]), axis=1)\n",
    "print df"
   ]
  },
  {
   "cell_type": "code",
   "execution_count": 38,
   "metadata": {
    "collapsed": false
   },
   "outputs": [
    {
     "data": {
      "text/plain": [
       "array([ 2.00000026, -1.00000021,  0.99999994])"
      ]
     },
     "execution_count": 38,
     "metadata": {},
     "output_type": "execute_result"
    }
   ],
   "source": [
    "from scipy.optimize import minimize\n",
    "\n",
    "# loss = sqrt(1/N * sum( (wx-y_)^2 ))\n",
    "def loss(w, df):\n",
    "    df['pred'] = df.apply(lambda x: w[0]*x[0]+w[1]*x[1]+w[2]*x[2], axis=1)\n",
    "    delta = (df['pred'] - df['res'])\n",
    "    N = df.shape[0]\n",
    "    return np.sqrt(1.0/N * np.sum(delta * delta))\n",
    "\n",
    "w0 = [1, 1, 1]\n",
    "res = minimize(lambda w: loss(w, df), w0, method='Nelder-Mead', tol=1e-6)\n",
    "res.x"
   ]
  },
  {
   "cell_type": "markdown",
   "metadata": {},
   "source": [
    "# 2. train "
   ]
  },
  {
   "cell_type": "markdown",
   "metadata": {},
   "source": [
    "# 3. test"
   ]
  },
  {
   "cell_type": "code",
   "execution_count": null,
   "metadata": {
    "collapsed": true
   },
   "outputs": [],
   "source": []
  }
 ],
 "metadata": {
  "anaconda-cloud": {},
  "kernelspec": {
   "display_name": "Python [Root]",
   "language": "python",
   "name": "Python [Root]"
  },
  "language_info": {
   "codemirror_mode": {
    "name": "ipython",
    "version": 2
   },
   "file_extension": ".py",
   "mimetype": "text/x-python",
   "name": "python",
   "nbconvert_exporter": "python",
   "pygments_lexer": "ipython2",
   "version": "2.7.12"
  }
 },
 "nbformat": 4,
 "nbformat_minor": 0
}
