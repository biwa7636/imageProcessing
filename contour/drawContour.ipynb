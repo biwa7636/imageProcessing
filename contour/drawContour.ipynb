{
 "cells": [
  {
   "cell_type": "code",
   "execution_count": null,
   "metadata": {
    "collapsed": false
   },
   "outputs": [],
   "source": [
    "import sys\n",
    "PATH_opencv = '/usr/local/Cellar/opencv/2.4.13/lib/python2.7/site-packages/'\n",
    "sys.path.append(PATH_opencv)\n",
    "import cv2\n",
    "import os\n",
    "import pandas as pd\n",
    "import matplotlib\n",
    "import numpy as np\n",
    "import matplotlib.pyplot as plt\n",
    "\n",
    "src = cv2.imread(\"circle1.jpg\", cv2.CV_LOAD_IMAGE_GRAYSCALE)\n",
    "# Set threshold and maxValue\n",
    "thresh = 127\n",
    "maxValue = 255\n",
    "# Basic threshold example\n",
    "th, dst = cv2.threshold(src, thresh, maxValue, cv2.THRESH_BINARY);\n",
    "# Find Contours \n",
    "countours,hierarchy=cv2.findContours(dst,cv2.RETR_TREE,cv2.CHAIN_APPROX_SIMPLE)\n",
    "# Draw Contour\n",
    "cv2.drawContours(dst,countours,-1,(255,255,255),3)\n",
    "plt.imshow(dst,'gray')\n",
    "plt.show()"
   ]
  },
  {
   "cell_type": "code",
   "execution_count": 1,
   "metadata": {
    "collapsed": true
   },
   "outputs": [],
   "source": [
    "# TODO understand the findContours function"
   ]
  },
  {
   "cell_type": "code",
   "execution_count": null,
   "metadata": {
    "collapsed": true
   },
   "outputs": [],
   "source": []
  }
 ],
 "metadata": {
  "kernelspec": {
   "display_name": "Python [Root]",
   "language": "python",
   "name": "Python [Root]"
  },
  "language_info": {
   "codemirror_mode": {
    "name": "ipython",
    "version": 2
   },
   "file_extension": ".py",
   "mimetype": "text/x-python",
   "name": "python",
   "nbconvert_exporter": "python",
   "pygments_lexer": "ipython2",
   "version": "2.7.12"
  }
 },
 "nbformat": 4,
 "nbformat_minor": 0
}
